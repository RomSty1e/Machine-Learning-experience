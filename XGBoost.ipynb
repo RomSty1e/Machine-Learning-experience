{
 "cells": [
  {
   "cell_type": "code",
   "execution_count": 1,
   "metadata": {
    "colab": {},
    "colab_type": "code",
    "id": "6vhMd5WtABx2"
   },
   "outputs": [],
   "source": [
    "import pandas as pd\n",
    "from glob import glob\n",
    "import os\n",
    "from PIL import Image\n",
    "import numpy as np\n",
    "import random\n",
    "import time\n",
    "from tqdm.notebook import tqdm"
   ]
  },
  {
   "cell_type": "code",
   "execution_count": 2,
   "metadata": {
    "colab": {},
    "colab_type": "code",
    "id": "NuzSLS5_ABx5"
   },
   "outputs": [],
   "source": [
    "from keras.applications.resnet50 import ResNet50\n",
    "from keras.preprocessing import image\n",
    "from keras.applications.resnet50 import preprocess_input, decode_predictions\n",
    "\n",
    "import xgboost as xgb\n",
    "from xgboost import XGBClassifier\n",
    "from sklearn.model_selection import train_test_split\n",
    "from sklearn.metrics import accuracy_score\n",
    "\n",
    "from sklearn.metrics import log_loss\n",
    "from sklearn import preprocessing\n",
    "\n",
    "random.seed(34)"
   ]
  },
  {
   "cell_type": "code",
   "execution_count": 3,
   "metadata": {
    "colab": {},
    "colab_type": "code",
    "id": "KVcoBRbuABx7",
    "scrolled": true
   },
   "outputs": [],
   "source": [
    "# Create model based on ResNet50\n",
    "model = ResNet50(weights='imagenet')"
   ]
  },
  {
   "cell_type": "code",
   "execution_count": 4,
   "metadata": {
    "colab": {},
    "colab_type": "code",
    "id": "zRinjm-7AByA"
   },
   "outputs": [],
   "source": [
    "def read_dataset(path, sample_size, spliting):\n",
    "    X = []\n",
    "    y = []   \n",
    "    \n",
    "    image_paths_list = glob(os.path.join(path, 'train', '*.jpg'))\n",
    "    \n",
    "    for i in tqdm(range(spliting)):  \n",
    "        image_paths_sample = random.sample(image_paths_list, sample_size)     \n",
    "        image_paths_list = list(set(image_paths_list) - set(image_paths_sample))          \n",
    "        for image_path in image_paths_sample:\n",
    "            image_name = os.path.basename(image_path)\n",
    "            image_name_parts = image_name.split('.')\n",
    "            label = image_name_parts[0] if len(image_name_parts) == 3 else None\n",
    "\n",
    "            if label:\n",
    "                y.append(int(label == 'cat'))\n",
    "\n",
    "            x = image.img_to_array(image.load_img(image_path, target_size=(224, 224)))\n",
    "            x = np.expand_dims(x, axis=0)\n",
    "            x = preprocess_input(x)\n",
    "\n",
    "            resnet_pred_features = model.predict(x)\n",
    "            X.append(resnet_pred_features.flatten())\n",
    "               \n",
    "    return np.array(X), y"
   ]
  },
  {
   "cell_type": "code",
   "execution_count": 5,
   "metadata": {
    "colab": {
     "referenced_widgets": [
      "72fdbd7e2cff42548f4ecaf2f734100c"
     ]
    },
    "colab_type": "code",
    "id": "j3_8M6uhAByD",
    "outputId": "86b72d5e-2386-4984-8f13-99aaf06990a5",
    "scrolled": true
   },
   "outputs": [
    {
     "data": {
      "application/vnd.jupyter.widget-view+json": {
       "model_id": "fd24e59609214945ae5de0ec48824dbf",
       "version_major": 2,
       "version_minor": 0
      },
      "text/plain": [
       "HBox(children=(FloatProgress(value=0.0, max=25.0), HTML(value='')))"
      ]
     },
     "metadata": {},
     "output_type": "display_data"
    },
    {
     "name": "stdout",
     "output_type": "stream",
     "text": [
      "\n",
      "25000 25000\n"
     ]
    }
   ],
   "source": [
    "# Get Data\n",
    "features, target = read_dataset(\"./data/\", 1000, 25)\n",
    "# Quantity of images\n",
    "print(len(features), len(target))"
   ]
  },
  {
   "cell_type": "code",
   "execution_count": 6,
   "metadata": {
    "colab": {},
    "colab_type": "code",
    "id": "BIlEbaITAByF",
    "outputId": "f80236ab-93f1-481e-d9e3-478cb5b2dab7"
   },
   "outputs": [
    {
     "name": "stdout",
     "output_type": "stream",
     "text": [
      "0.4975428571428571 0.5057333333333334\n"
     ]
    },
    {
     "data": {
      "text/plain": [
       "(17500, 17500, 7500, 7500)"
      ]
     },
     "execution_count": 6,
     "metadata": {},
     "output_type": "execute_result"
    }
   ],
   "source": [
    "# Divide the sample into train and test with 70/30 ratio\n",
    "from sklearn.model_selection import train_test_split\n",
    "x_train, x_test, y_train, y_test = train_test_split(features, target, test_size = 0.3, train_size = 0.7)\n",
    "\n",
    "print(np.sum(y_train) / len(y_train), np.sum(y_test) / len(y_test))\n",
    "len(x_train), len(y_train), len(x_test), len(y_test)"
   ]
  },
  {
   "cell_type": "code",
   "execution_count": 7,
   "metadata": {
    "colab": {},
    "colab_type": "code",
    "id": "N-qEaImQAByI",
    "outputId": "1e0093aa-cb67-4eec-bf3e-b2e8f545c024",
    "scrolled": true
   },
   "outputs": [
    {
     "data": {
      "text/plain": [
       "XGBClassifier(base_score=0.5, booster='gbtree', colsample_bylevel=1,\n",
       "              colsample_bynode=1, colsample_bytree=1, gamma=0, gpu_id=-1,\n",
       "              importance_type='gain', interaction_constraints='',\n",
       "              learning_rate=0.300000012, max_delta_step=0, max_depth=6,\n",
       "              min_child_weight=1, missing=nan, monotone_constraints='()',\n",
       "              n_estimators=100, n_jobs=4, num_parallel_tree=1, random_state=0,\n",
       "              reg_alpha=0, reg_lambda=1, scale_pos_weight=1, subsample=1,\n",
       "              tree_method='exact', use_label_encoder=False,\n",
       "              validate_parameters=1, verbosity=0)"
      ]
     },
     "execution_count": 7,
     "metadata": {},
     "output_type": "execute_result"
    }
   ],
   "source": [
    "# Create XGBClassifier with default parameters\n",
    "from xgboost import XGBClassifier\n",
    "\n",
    "clf = XGBClassifier(use_label_encoder=False, verbosity=0)\n",
    "clf.fit(x_train, y_train)"
   ]
  },
  {
   "cell_type": "code",
   "execution_count": 8,
   "metadata": {
    "colab": {},
    "colab_type": "code",
    "id": "rslJoRPqAByL"
   },
   "outputs": [],
   "source": [
    "# Get predictions on the Training and Testing set\n",
    "train_pred = clf.predict(x_train)\n",
    "test_pred = clf.predict(x_test)"
   ]
  },
  {
   "cell_type": "code",
   "execution_count": 9,
   "metadata": {
    "colab": {},
    "colab_type": "code",
    "id": "ZCwtU_sHAByN",
    "outputId": "edaf3603-d0e5-457b-c4fe-bd6c13d13540",
    "scrolled": false
   },
   "outputs": [
    {
     "name": "stdout",
     "output_type": "stream",
     "text": [
      "Train score : 1.0 Test score : 0.9854666666666667\n"
     ]
    }
   ],
   "source": [
    "# Evaluating the results\n",
    "train_score = accuracy_score(y_train, train_pred)\n",
    "test_score = accuracy_score(y_test, test_pred)\n",
    "print('Train score :', train_score, 'Test score :', test_score)"
   ]
  },
  {
   "cell_type": "code",
   "execution_count": 10,
   "metadata": {
    "colab": {},
    "colab_type": "code",
    "id": "WLvgwH1gAByQ",
    "outputId": "2adf0672-11b4-4fca-d6b6-8ff0828ce6ed"
   },
   "outputs": [
    {
     "data": {
      "text/plain": [
       "XGBClassifier(base_score=0.5, booster='gbtree', colsample_bylevel=1,\n",
       "              colsample_bynode=1, colsample_bytree=1, gamma=0, gpu_id=-1,\n",
       "              importance_type='gain', interaction_constraints='',\n",
       "              learning_rate=0.35, max_delta_step=0, max_depth=6,\n",
       "              min_child_weight=1, missing=nan, monotone_constraints='()',\n",
       "              n_estimators=65, n_jobs=4, num_parallel_tree=1, random_state=0,\n",
       "              reg_alpha=0, reg_lambda=1, scale_pos_weight=1, subsample=1,\n",
       "              tree_method='exact', use_label_encoder=False,\n",
       "              validate_parameters=1, verbosity=None)"
      ]
     },
     "execution_count": 10,
     "metadata": {},
     "output_type": "execute_result"
    }
   ],
   "source": [
    "parameters = {\n",
    "    \"n_estimators\": 65,  \n",
    "    \"learning_rate\": 0.35,\n",
    "}\n",
    "\n",
    "clf = XGBClassifier(**parameters, use_label_encoder=False)\n",
    "clf.fit(x_train, y_train)"
   ]
  },
  {
   "cell_type": "code",
   "execution_count": 11,
   "metadata": {
    "colab": {},
    "colab_type": "code",
    "id": "-1A36kkvAByR",
    "outputId": "57ef6e35-b553-471f-cd91-24b21c6e49d6",
    "scrolled": false
   },
   "outputs": [
    {
     "name": "stdout",
     "output_type": "stream",
     "text": [
      "[0.98466667 0.982      0.98733333 0.98133333 0.98466667]\n",
      "Avg is:  0.984\n"
     ]
    }
   ],
   "source": [
    "from sklearn.model_selection import cross_val_score\n",
    "cross_score = cross_val_score(clf, x_test, y_test, cv=5)\n",
    "print(cross_score)\n",
    "print('Avg is: ', cross_score.mean())"
   ]
  },
  {
   "cell_type": "code",
   "execution_count": 12,
   "metadata": {
    "colab": {},
    "colab_type": "code",
    "id": "OI9b-3XAAByT",
    "outputId": "96d41494-7169-4697-c3d5-ad385201d7c0",
    "scrolled": false
   },
   "outputs": [
    {
     "name": "stdout",
     "output_type": "stream",
     "text": [
      "100%|███████████████████████████████████████████████| 50/50 [11:37<00:00, 13.95s/trial, best loss: -0.9861142170560978]\n",
      "best: {'colsample_bylevel': 0.5, 'colsample_bynode': 0.75, 'colsample_bytree': 0.35000000000000003, 'gamma': 0.65, 'max_delta_step': 2, 'max_depth': 11, 'min_child_weight': 4}\n"
     ]
    }
   ],
   "source": [
    "# Making tuning of hyperparameters for XGBoost:\n",
    "from hyperopt import hp\n",
    "from hyperopt import fmin, tpe\n",
    "\n",
    "X = x_train\n",
    "y = y_train\n",
    "\n",
    "def xgb_score(params):\n",
    "    clf = XGBClassifier(**params, use_label_encoder=False)\n",
    "    # averaging over 3 folds, to reduce the effect of stachosticity\n",
    "    current_score = cross_val_score(clf, X, y, cv=3).mean()\n",
    "    #print(current_score, params)\n",
    "    return -current_score\n",
    " \n",
    "\n",
    "space_params = {\n",
    "            #constant params   \n",
    "            'n_estimators': 65,  \n",
    "            'learning_rate': 0.35,\n",
    "   \n",
    "            'booster': 'gbtree',             \n",
    "            'objective': 'binary:logistic',\n",
    "            'tree_method': 'auto',\n",
    "            'verbosity': None, \n",
    "            'subsample': 1,\n",
    "    \n",
    "            #changable                     \n",
    "            'colsample_bytree': hp.quniform('colsample_bytree', 0.05, 1, 0.05),\n",
    "            'colsample_bylevel': hp.quniform('colsample_bylevel', 0.05, 1, 0.05),\n",
    "            'colsample_bynode': hp.quniform('colsample_bynode', 0.05, 1, 0.05),   \n",
    "            'gamma': hp.quniform('gamma', 0.5, 1, 0.05),    \n",
    "            'max_delta_step':  hp.choice('max_delta_step', np.arange(1, 10, dtype=int)),\n",
    "            'max_depth':  hp.choice('max_depth', np.arange(1, 14, dtype=int)),\n",
    "            'min_child_weight': hp.choice('min_child_weight', np.arange(1, 10, dtype=int)), \n",
    "}\n",
    "\n",
    " \n",
    "best = fmin(xgb_score, space_params, tpe.suggest, 50)\n",
    "print('best:', best)"
   ]
  },
  {
   "cell_type": "code",
   "execution_count": 13,
   "metadata": {
    "colab": {},
    "colab_type": "code",
    "id": "qSplHfTLAByV",
    "outputId": "5373bdb5-6189-40a5-c094-42262b669875",
    "scrolled": true
   },
   "outputs": [
    {
     "data": {
      "text/plain": [
       "XGBClassifier(base_score=0.5, booster='gbtree', colsample_bylevel=0.5,\n",
       "              colsample_bynode=0.75, colsample_bytree=0.35000000000000003,\n",
       "              gamma=0.65, gpu_id=-1, importance_type='gain',\n",
       "              interaction_constraints='', learning_rate=0.35, max_delta_step=2,\n",
       "              max_depth=11, min_child_weight=4, missing=nan,\n",
       "              monotone_constraints='()', n_estimators=65, n_jobs=4,\n",
       "              num_parallel_tree=1, random_state=0, reg_alpha=0, reg_lambda=1,\n",
       "              scale_pos_weight=1, subsample=1, tree_method='auto',\n",
       "              use_label_encoder=False, validate_parameters=1, verbosity=None)"
      ]
     },
     "execution_count": 13,
     "metadata": {},
     "output_type": "execute_result"
    }
   ],
   "source": [
    "const_params = {\n",
    "            #constant params   \n",
    "            'n_estimators': 65,  \n",
    "            'learning_rate': 0.35,\n",
    "    \n",
    "            'booster': 'gbtree',             \n",
    "            'objective': 'binary:logistic',\n",
    "            'tree_method': 'auto',\n",
    "            'verbosity': None, \n",
    "            'subsample': 1,\n",
    "}\n",
    "\n",
    "\n",
    "clf = XGBClassifier(**best, **const_params, use_label_encoder=False)\n",
    "clf.fit(x_train, y_train)"
   ]
  },
  {
   "cell_type": "code",
   "execution_count": 14,
   "metadata": {
    "colab": {},
    "colab_type": "code",
    "id": "SZp9F3fmAByW",
    "outputId": "46f03ef0-acdf-4351-f3c5-fb9076065167"
   },
   "outputs": [
    {
     "name": "stdout",
     "output_type": "stream",
     "text": [
      "[0.98533333 0.982      0.98866667 0.97866667 0.98466667]\n",
      "Avg is:  0.9838666666666667\n"
     ]
    }
   ],
   "source": [
    "# After tuning\n",
    "cross_score_after_tuning = cross_val_score(clf, x_test, y_test, cv=5)\n",
    "print(cross_score_after_tuning)\n",
    "print('Avg is: ', cross_score_after_tuning.mean())"
   ]
  },
  {
   "cell_type": "code",
   "execution_count": 15,
   "metadata": {
    "colab": {},
    "colab_type": "code",
    "id": "uwfFFE-6AByd"
   },
   "outputs": [],
   "source": [
    "# Feature Importances\n",
    "with open(\"./data/features_names.txt\", \"r\") as file:\n",
    "    contents = file.readlines()\n",
    "\n",
    "for i in range(len(contents)):\n",
    "    contents[i] = contents[i].strip().replace('\\n', '').replace('\\r', '')\n",
    "    \n",
    "important_feature = list(zip(contents, clf.feature_importances_))\n",
    "important_feature.sort(key=lambda i: i[1], reverse=True)"
   ]
  },
  {
   "cell_type": "code",
   "execution_count": 16,
   "metadata": {
    "colab": {},
    "colab_type": "code",
    "id": "ZPu1lEkxAByr",
    "outputId": "e08404a3-57a3-4fb1-82b6-40c039a91d17"
   },
   "outputs": [
    {
     "name": "stdout",
     "output_type": "stream",
     "text": [
      "('lynx, catamount', 0.12864493)\n",
      "('tabby, tabby cat', 0.07782079)\n",
      "('plastic bag', 0.06644847)\n",
      "('radiator', 0.039156254)\n",
      "('Egyptian cat', 0.037676707)\n",
      "('snow leopard, ounce, Panthera uncia', 0.03181163)\n",
      "('Siamese cat, Siamese', 0.022429878)\n",
      "('Greater Swiss Mountain dog', 0.022037087)\n",
      "('Labrador retriever', 0.021235107)\n",
      "('Irish wolfhound', 0.020156775)\n",
      "('hamper', 0.01725069)\n",
      "('bloodhound, sleuthhound', 0.013627452)\n",
      "('boxer', 0.011964951)\n",
      "('Persian cat', 0.010890979)\n",
      "('Irish terrier', 0.0107342275)\n",
      "('basenji', 0.010054439)\n",
      "('Border terrier', 0.0080370195)\n",
      "('carton', 0.0077191396)\n",
      "('skunk, polecat, wood pussy', 0.0066036815)\n",
      "('Gila monster, Heloderma suspectum', 0.006286415)\n"
     ]
    }
   ],
   "source": [
    "# Top 20\n",
    "for i in range(20):\n",
    "    print(important_feature[i])"
   ]
  },
  {
   "cell_type": "code",
   "execution_count": null,
   "metadata": {},
   "outputs": [],
   "source": []
  }
 ],
 "metadata": {
  "colab": {
   "name": "machine_learning_khalili_work2.ipynb",
   "provenance": []
  },
  "kernelspec": {
   "display_name": "Python 3",
   "language": "python",
   "name": "python3"
  },
  "language_info": {
   "codemirror_mode": {
    "name": "ipython",
    "version": 3
   },
   "file_extension": ".py",
   "mimetype": "text/x-python",
   "name": "python",
   "nbconvert_exporter": "python",
   "pygments_lexer": "ipython3",
   "version": "3.8.3"
  }
 },
 "nbformat": 4,
 "nbformat_minor": 1
}
